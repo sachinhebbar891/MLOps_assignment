{
 "cells": [
  {
   "cell_type": "markdown",
   "id": "c1e25334-72cc-4d61-918a-f784f493091e",
   "metadata": {},
   "source": [
    "### Installing dependencies"
   ]
  },
  {
   "cell_type": "code",
   "execution_count": null,
   "id": "348d51bc-6ad6-4fb2-acec-8d9eb1a9db7e",
   "metadata": {},
   "outputs": [],
   "source": [
    "import pandas as pd\n",
    "import mlflow\n",
    "import mlflow.sklearn\n",
    "from sklearn.model_selection import train_test_split\n",
    "from sklearn.ensemble import RandomForestClassifier\n",
    "from sklearn.metrics import accuracy_score\n",
    "from sklearn.svm import SVC\n",
    "import pickle\n",
    "from sklearn.neighbors import KNeighborsClassifier\n",
    "import os\n"
   ]
  },
  {
   "cell_type": "markdown",
   "id": "1a1109b1-36df-4f31-a9f7-493b12bb91b8",
   "metadata": {},
   "source": [
    "### Loading the training and test datasets"
   ]
  },
  {
   "cell_type": "code",
   "execution_count": 3,
   "id": "eb3a45b1-a9b4-4b36-8431-d25af9471609",
   "metadata": {},
   "outputs": [
    {
     "name": "stdout",
     "output_type": "stream",
     "text": [
      "   Unnamed: 0  Pregnancies  Glucose  BloodPressure  SkinThickness  Insulin  \\\n",
      "0           0            2      108             80              0        0   \n",
      "1           1            0      173             78             32      265   \n",
      "2           2            1      120             80             48      200   \n",
      "3           3            0      121             66             30      165   \n",
      "4           4            1      126             56             29      152   \n",
      "\n",
      "    BMI  DiabetesPedigreeFunction  Age  Outcome  \n",
      "0  27.0                     0.259   52        1  \n",
      "1  46.5                     1.159   58        0  \n",
      "2  38.9                     1.162   41        0  \n",
      "3  34.3                     0.203   33        1  \n",
      "4  28.7                     0.801   21        0  \n",
      "   Unnamed: 0  Pregnancies  Glucose  BloodPressure  SkinThickness  Insulin  \\\n",
      "0         614            2       87             58             16       52   \n",
      "1         615           10       92             62              0        0   \n",
      "2         616            1      109             58             18      116   \n",
      "3         617            6      123             72             45      230   \n",
      "4         618            1      102             74              0        0   \n",
      "\n",
      "    BMI  DiabetesPedigreeFunction  Age  Outcome  \n",
      "0  32.7                     0.166   25        0  \n",
      "1  25.9                     0.167   31        0  \n",
      "2  28.5                     0.219   22        0  \n",
      "3  33.6                     0.733   34        0  \n",
      "4  39.5                     0.293   42        1  \n"
     ]
    }
   ],
   "source": [
    "\n",
    "train_df = pd.read_csv('../Data/train.csv')\n",
    "test_df = pd.read_csv ('../Data/test.csv')\n",
    "\n",
    "# printing the first 5 records\n",
    "print(train_df.head())\n",
    "print(test_df.head())\n"
   ]
  },
  {
   "cell_type": "markdown",
   "id": "4da60b50-7a47-4506-9197-d763ae7d90a0",
   "metadata": {},
   "source": [
    "### Setting the MLFlow URI  to store the models' logs and results of the expreiments.\n",
    "### Setting the path to store the trained models. \n",
    "### Three ML algorithms implemented."
   ]
  },
  {
   "cell_type": "code",
   "execution_count": 11,
   "id": "dcc8f6d4-a966-466f-b056-bd14fe84c8d2",
   "metadata": {},
   "outputs": [],
   "source": [
    "mlflow.set_tracking_uri('file:///C:/Users/HP/MLOPS_Assignment1/notebooks/new_mlruns')\n",
    "randomforest_fpath = 'C:/Users/HP/MLOPS_Assignment1/Models/random_forest_model.pkl'\n",
    "svm_fpath = 'C:/Users/HP/MLOPS_Assignment1/Models/svm_model.pkl'\n",
    "knn_fpath = 'C:/Users/HP/MLOPS_Assignment1/Models/knn_model.pkl'"
   ]
  },
  {
   "cell_type": "markdown",
   "id": "a8b31aa1-202c-4b23-a6cd-b4a9f0e8e969",
   "metadata": {},
   "source": [
    "### Preparing the training and testing data used for training and testing the 3 models"
   ]
  },
  {
   "cell_type": "code",
   "execution_count": 12,
   "id": "46b4933f-f321-4227-bc92-debc5181dacb",
   "metadata": {},
   "outputs": [],
   "source": [
    "X_train = train_df.drop(columns=[\"Outcome\"])  \n",
    "y_train = train_df[\"Outcome\"]\n",
    "X_test = test_df.drop(columns=[\"Outcome\"])\n",
    "y_test = test_df[\"Outcome\"]"
   ]
  },
  {
   "cell_type": "markdown",
   "id": "d322f29d-4653-4fc0-b7cc-71aae7358037",
   "metadata": {},
   "source": [
    "### Random Forest ML Model "
   ]
  },
  {
   "cell_type": "code",
   "execution_count": 23,
   "id": "7528c1c7-6ee4-45e5-abcd-e558b3fddeb1",
   "metadata": {},
   "outputs": [
    {
     "name": "stderr",
     "output_type": "stream",
     "text": [
      "2024/08/05 21:28:36 INFO mlflow.tracking.fluent: Experiment with name 'RandomForest_Model' does not exist. Creating a new experiment.\n",
      "2024/08/05 21:28:40 WARNING mlflow.models.model: Input example should be provided to infer model signature if the model signature is not provided when logging the model.\n"
     ]
    },
    {
     "name": "stdout",
     "output_type": "stream",
     "text": [
      "Model logged with accuracy: 0.8116883116883117\n"
     ]
    }
   ],
   "source": [
    "mlflow.set_experiment(\"RandomForest_Model\")\n",
    "\n",
    "# Start an MLflow run\n",
    "with mlflow.start_run():\n",
    "    # Define model parameters\n",
    "    n_estimators = 100\n",
    "    max_depth = 10\n",
    "\n",
    "    # Log parameters\n",
    "    mlflow.log_param(\"n_estimators\", n_estimators)\n",
    "    mlflow.log_param(\"max_depth\", max_depth)\n",
    "\n",
    "   \n",
    "    # Train the model\n",
    "    model = RandomForestClassifier(n_estimators=n_estimators, max_depth=max_depth, random_state=42)\n",
    "    model.fit(X_train, y_train)\n",
    "\n",
    "    # Predict on test set\n",
    "    predictions = model.predict(X_test)\n",
    "    accuracy = accuracy_score(y_test, predictions)\n",
    "\n",
    "    # Log metrics\n",
    "    mlflow.log_metric(\"accuracy\", accuracy)\n",
    "\n",
    "    # Log the model\n",
    "    mlflow.sklearn.log_model(model, \"random_forest_model\")\n",
    "\n",
    "    print(f\"Model logged with accuracy: {accuracy}\")\n",
    "\n",
    "#print(\"Current tracking URI:\", mlflow.get_tracking_uri())\n",
    "    "
   ]
  },
  {
   "cell_type": "markdown",
   "id": "a19405b5-b49b-46c2-80ab-39aecdd1d21b",
   "metadata": {},
   "source": [
    "### Support Vector Machine (SVM) ML Model "
   ]
  },
  {
   "cell_type": "code",
   "execution_count": 15,
   "id": "7c50ef94-2b64-4664-a1f4-96bc5ffbeb62",
   "metadata": {},
   "outputs": [
    {
     "name": "stderr",
     "output_type": "stream",
     "text": [
      "2024/08/05 21:14:42 INFO mlflow.tracking.fluent: Experiment with name 'SVM_MODEL' does not exist. Creating a new experiment.\n",
      "2024/08/05 21:14:55 WARNING mlflow.models.model: Input example should be provided to infer model signature if the model signature is not provided when logging the model.\n"
     ]
    },
    {
     "name": "stdout",
     "output_type": "stream",
     "text": [
      "Model logged with accuracy: 0.8246753246753247\n"
     ]
    }
   ],
   "source": [
    "mlflow.set_experiment(\"SVM_MODEL\")\n",
    "\n",
    "with mlflow.start_run():\n",
    "    # Define model parameters\n",
    "    C = 1.0\n",
    "    kernel = 'linear'\n",
    "\n",
    "    # Log parameters\n",
    "    mlflow.log_param(\"C\", C)\n",
    "    mlflow.log_param(\"kernel\", kernel)\n",
    "\n",
    "\n",
    "    # Train the model\n",
    "    model = SVC(C=C, kernel=kernel, random_state=42)\n",
    "    model.fit(X_train, y_train)\n",
    "\n",
    "    # Predict on test set\n",
    "    predictions = model.predict(X_test)\n",
    "    accuracy = accuracy_score(y_test, predictions)\n",
    "\n",
    "    # Log metrics\n",
    "    mlflow.log_metric(\"accuracy\", accuracy)\n",
    "\n",
    "    # Log the model in MLflow\n",
    "    mlflow.sklearn.log_model(model, \"svm_model\")\n",
    "    print(f\"Model logged with accuracy: {accuracy}\")\n",
    "   \n"
   ]
  },
  {
   "cell_type": "markdown",
   "id": "5c7651b3-13d9-4995-8f10-3be90d8315a5",
   "metadata": {},
   "source": [
    "### K-Nearest Neighbour ML Model "
   ]
  },
  {
   "cell_type": "code",
   "execution_count": 24,
   "id": "7694320c-20dc-466c-b6e9-e0ac6fd4b1c8",
   "metadata": {},
   "outputs": [
    {
     "name": "stderr",
     "output_type": "stream",
     "text": [
      "2024/08/05 21:29:47 WARNING mlflow.models.model: Input example should be provided to infer model signature if the model signature is not provided when logging the model.\n"
     ]
    },
    {
     "name": "stdout",
     "output_type": "stream",
     "text": [
      "Model logged with accuracy: 0.7337662337662337\n"
     ]
    }
   ],
   "source": [
    "mlflow.set_experiment(\"KNN_MODEL\")\n",
    "\n",
    "\n",
    "with mlflow.start_run():\n",
    "    \n",
    "    n_neighbors = 5\n",
    "    weights = 'uniform'  # or 'distance'\n",
    "\n",
    "    # parameter logging\n",
    "    mlflow.log_param(\"n_neighbors\", n_neighbors)\n",
    "    mlflow.log_param(\"weights\", weights)\n",
    "\n",
    "   \n",
    "    # Train the model\n",
    "    model = KNeighborsClassifier(n_neighbors=n_neighbors, weights=weights)\n",
    "    model.fit(X_train, y_train)\n",
    "\n",
    "    # Predict on test set\n",
    "    predictions = model.predict(X_test)\n",
    "    accuracy = accuracy_score(y_test, predictions)\n",
    "\n",
    "    # Log metrics\n",
    "    mlflow.log_metric(\"accuracy\", accuracy)\n",
    "\n",
    "    # Log the model in MLflow\n",
    "    mlflow.sklearn.log_model(model, \"knn_model\")\n",
    "\n",
    "    # Save the model to your 'models/saved_model/' directory\n",
    "    \n",
    "\n",
    "    print(f\"Model logged with accuracy: {accuracy}\")\n",
    "    #print(f\"Model saved to: {knn_fpath}\")\n"
   ]
  },
  {
   "cell_type": "markdown",
   "id": "f8f9724f-b26c-4ef8-a2b7-84d5581cf4ab",
   "metadata": {},
   "source": [
    "### Serializing the model in a pickle file\n"
   ]
  },
  {
   "cell_type": "code",
   "execution_count": 25,
   "id": "63766522-919e-41a5-b3a5-206448279da9",
   "metadata": {},
   "outputs": [
    {
     "name": "stdout",
     "output_type": "stream",
     "text": [
      "Model saved to: C:/Users/HP/MLOPS_Assignment1/Models/random_forest_model.pkl\n"
     ]
    }
   ],
   "source": [
    "with open(randomforest_fpath, 'wb') as f:\n",
    "    pickle.dump(model, f)\n",
    "\n",
    "print(f\"Model saved to: {randomforest_fpath}\")"
   ]
  },
  {
   "cell_type": "code",
   "execution_count": 20,
   "id": "22f59419-7166-45f5-af80-9beaea1a6aff",
   "metadata": {},
   "outputs": [
    {
     "name": "stdout",
     "output_type": "stream",
     "text": [
      "Model saved to: C:/Users/HP/MLOPS_Assignment1/Models/svm_model.pkl\n"
     ]
    }
   ],
   "source": [
    "with open(svm_fpath, 'wb') as f:\n",
    "    pickle.dump(model, f)\n",
    "\n",
    "print(f\"Model saved to: {svm_fpath}\")"
   ]
  },
  {
   "cell_type": "code",
   "execution_count": 21,
   "id": "eee48c83-c4b3-4e41-b0e1-a7f699ea1673",
   "metadata": {},
   "outputs": [
    {
     "name": "stdout",
     "output_type": "stream",
     "text": [
      "Model saved to: C:/Users/HP/MLOPS_Assignment1/Models/knn_model.pkl\n"
     ]
    }
   ],
   "source": [
    "\n",
    "with open(knn_fpath, 'wb') as f:\n",
    "    pickle.dump(model, f)\n",
    "\n",
    "print(f\"Model saved to: {knn_fpath}\")"
   ]
  },
  {
   "cell_type": "code",
   "execution_count": 17,
   "id": "10eed538-79e5-42b5-9ecc-fdff27c66110",
   "metadata": {},
   "outputs": [
    {
     "name": "stdout",
     "output_type": "stream",
     "text": [
      "^C\n"
     ]
    }
   ],
   "source": [
    "!mlflow ui"
   ]
  },
  {
   "cell_type": "code",
   "execution_count": 7,
   "id": "d4f74352-d265-40e7-b96d-c17209a55cb3",
   "metadata": {},
   "outputs": [
    {
     "name": "stdout",
     "output_type": "stream",
     "text": [
      "Current tracking URI: file:///C:/Users/HP/MLOPS_Assignment1/notebooks/mlruns\n"
     ]
    }
   ],
   "source": [
    "import mlflow\n",
    "\n",
    "print(\"Current tracking URI:\", mlflow.get_tracking_uri())"
   ]
  },
  {
   "cell_type": "code",
   "execution_count": null,
   "id": "91644a3d-0c6b-4c90-8f32-6c0e6a5e7e93",
   "metadata": {},
   "outputs": [],
   "source": []
  }
 ],
 "metadata": {
  "kernelspec": {
   "display_name": "Python 3 (ipykernel)",
   "language": "python",
   "name": "python3"
  },
  "language_info": {
   "codemirror_mode": {
    "name": "ipython",
    "version": 3
   },
   "file_extension": ".py",
   "mimetype": "text/x-python",
   "name": "python",
   "nbconvert_exporter": "python",
   "pygments_lexer": "ipython3",
   "version": "3.12.3"
  }
 },
 "nbformat": 4,
 "nbformat_minor": 5
}
